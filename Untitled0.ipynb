{
  "nbformat": 4,
  "nbformat_minor": 0,
  "metadata": {
    "colab": {
      "provenance": [],
      "authorship_tag": "ABX9TyMbwounCFfByFDFry9eRrUj",
      "include_colab_link": true
    },
    "kernelspec": {
      "name": "python3",
      "display_name": "Python 3"
    },
    "language_info": {
      "name": "python"
    }
  },
  "cells": [
    {
      "cell_type": "markdown",
      "metadata": {
        "id": "view-in-github",
        "colab_type": "text"
      },
      "source": [
        "<a href=\"https://colab.research.google.com/github/Alino4kaAlino4ka/Python/blob/main/Untitled0.ipynb\" target=\"_parent\"><img src=\"https://colab.research.google.com/assets/colab-badge.svg\" alt=\"Open In Colab\"/></a>"
      ]
    },
    {
      "cell_type": "markdown",
      "source": [
        "# Урок 11. Jupyter Notebook и несколько слов об аналитике\n",
        "\n",
        "# f(x) = -12x^4*sin(cos(x)) - 18x^3+5x^2 + 10x - 30\n",
        "\n",
        "# Определить корни\n",
        "\n",
        "# Найти интервалы, на которых функция возрастает\n",
        "\n",
        "# Найти интервалы, на которых функция убывает\n",
        "\n",
        "# Построить график\n",
        "\n",
        "# Вычислить вершину\n",
        "\n",
        "# Определить промежутки, на котором f > 0\n",
        "\n",
        "# Определить промежутки, на котором f < 0"
      ],
      "metadata": {
        "id": "jIhsNn4RPKGo"
      }
    },
    {
      "cell_type": "code",
      "execution_count": 1,
      "metadata": {
        "id": "cz9ZoPW9O5ai"
      },
      "outputs": [],
      "source": [
        "from sympy import *\n",
        "import matplotlib.pyplot as plt"
      ]
    },
    {
      "cell_type": "code",
      "source": [
        "print(\"1. Определить корни\")\n",
        "x = Symbol('x')\n",
        "func = 5*x**2+10*x-30\n",
        "y = solve(func)\n",
        "# print(y)\n",
        "x1 = round(float(y[0]), 2)\n",
        "x2 = round(float(y[1]), 2)\n",
        "print(x1, x2)"
      ],
      "metadata": {
        "colab": {
          "base_uri": "https://localhost:8080/"
        },
        "id": "FOlbB1t3PeiR",
        "outputId": "b6746eed-f37f-432a-edd5-1a103c8d8c54"
      },
      "execution_count": 2,
      "outputs": [
        {
          "output_type": "stream",
          "name": "stdout",
          "text": [
            "1. Определить корни\n",
            "1.65 -3.65\n"
          ]
        }
      ]
    },
    {
      "cell_type": "code",
      "source": [
        "print(\"2. Найти интервалы, на которых функция возрастает\")\n",
        "fd = diff(func)\n",
        "print(solve(0 < fd))"
      ],
      "metadata": {
        "colab": {
          "base_uri": "https://localhost:8080/"
        },
        "id": "RV0rpDz2P72J",
        "outputId": "4dd93aa6-20bd-47a3-aa85-db39d9812f77"
      },
      "execution_count": 3,
      "outputs": [
        {
          "output_type": "stream",
          "name": "stdout",
          "text": [
            "2. Найти интервалы, на которых функция возрастает\n",
            "(-1 < x) & (x < oo)\n"
          ]
        }
      ]
    },
    {
      "cell_type": "code",
      "source": [
        "print(\"3. Найти интервалы, на которых функция убывает\")\n",
        "print(solve(fd < 0))"
      ],
      "metadata": {
        "colab": {
          "base_uri": "https://localhost:8080/"
        },
        "id": "wifIftigP-z6",
        "outputId": "1dc976d6-fa9e-4043-8b7c-5654dd0030e4"
      },
      "execution_count": 4,
      "outputs": [
        {
          "output_type": "stream",
          "name": "stdout",
          "text": [
            "3. Найти интервалы, на которых функция убывает\n",
            "(-oo < x) & (x < -1)\n"
          ]
        }
      ]
    },
    {
      "cell_type": "code",
      "source": [
        "print(\"4. Построить график\")\n",
        "list_y = []\n",
        "for i in range(-5, 6):\n",
        "    x = i\n",
        "    y = 5*x**2+10*x-30\n",
        "    list_y.append(y)\n",
        "print(list_y)\n",
        "plt.plot(range(-5, 6), [0, 0, 0, 0, 0, 0, 0, 0, 0, 0, 0])\n",
        "plt.plot(range(-5, 6), list_y)\n",
        "plt.grid()\n",
        "plt.show()"
      ],
      "metadata": {
        "colab": {
          "base_uri": "https://localhost:8080/",
          "height": 300
        },
        "id": "Cir1NIu4QBke",
        "outputId": "d1856d48-31d7-4832-e152-ab0a3825e2a5"
      },
      "execution_count": 5,
      "outputs": [
        {
          "output_type": "stream",
          "name": "stdout",
          "text": [
            "4. Построить график\n",
            "[45, 10, -15, -30, -35, -30, -15, 10, 45, 90, 145]\n"
          ]
        },
        {
          "output_type": "display_data",
          "data": {
            "text/plain": [
              "<Figure size 432x288 with 1 Axes>"
            ],
            "image/png": "[encoded data removed]"
          },
          "metadata": {
            "needs_background": "light"
          }
        }
      ]
    },
    {
      "cell_type": "code",
      "source": [
        "print(\"5. Вычислить вершину\")\n",
        "corni = solve(fd)\n",
        "top = corni[0]\n",
        "x = top\n",
        "y = 5*x**2+10*x-30\n",
        "print(top, y)"
      ],
      "metadata": {
        "colab": {
          "base_uri": "https://localhost:8080/"
        },
        "id": "dC3EcHKDQJ-t",
        "outputId": "67494c46-f04f-4586-ee56-337e5406f6fc"
      },
      "execution_count": 6,
      "outputs": [
        {
          "output_type": "stream",
          "name": "stdout",
          "text": [
            "5. Вычислить вершину\n",
            "-1 -35\n"
          ]
        }
      ]
    },
    {
      "cell_type": "code",
      "source": [
        "print(\"6. Определить промежутки, на котором f > 0\")\n",
        "print(solve(0 < func))\n",
        "\n"
      ],
      "metadata": {
        "colab": {
          "base_uri": "https://localhost:8080/"
        },
        "id": "d3v1OYDRQQKd",
        "outputId": "9da14c81-c7bd-4405-a6d8-7956eae9b520"
      },
      "execution_count": 7,
      "outputs": [
        {
          "output_type": "stream",
          "name": "stdout",
          "text": [
            "6. Определить промежутки, на котором f > 0\n",
            "((x < oo) & (-1 + sqrt(7) < x)) | ((-oo < x) & (x < -sqrt(7) - 1))\n"
          ]
        }
      ]
    },
    {
      "cell_type": "code",
      "source": [
        "\n",
        "print(\"7. Определить промежутки, на котором f < 0\")\n",
        "print(solve(func < 0))"
      ],
      "metadata": {
        "colab": {
          "base_uri": "https://localhost:8080/"
        },
        "id": "TOyqs7iKQTfZ",
        "outputId": "b1e12b08-46e7-4353-9dae-ed5c3845d542"
      },
      "execution_count": 8,
      "outputs": [
        {
          "output_type": "stream",
          "name": "stdout",
          "text": [
            "7. Определить промежутки, на котором f < 0\n",
            "(x < -1 + sqrt(7)) & (-sqrt(7) - 1 < x)\n"
          ]
        }
      ]
    },
    {
      "cell_type": "markdown",
      "source": [],
      "metadata": {
        "id": "oH64ijz7Qk5O"
      }
    }
  ]
}